{
 "cells": [
  {
   "cell_type": "code",
   "id": "initial_id",
   "metadata": {
    "collapsed": true,
    "ExecuteTime": {
     "end_time": "2024-11-16T12:37:36.479001Z",
     "start_time": "2024-11-16T12:37:36.465488Z"
    }
   },
   "source": [
    "#temporal convolutional neural net\n",
    "import tensorflow as tf\n",
    "\n"
   ],
   "outputs": [],
   "execution_count": 4
  },
  {
   "metadata": {
    "ExecuteTime": {
     "end_time": "2024-11-16T12:37:36.494025Z",
     "start_time": "2024-11-16T12:37:36.483514Z"
    }
   },
   "cell_type": "code",
   "source": [
    "from keras.preprocessing.text import Tokenizer\n",
    "print(\"ok\")"
   ],
   "id": "d437c6f1164b6de",
   "outputs": [
    {
     "name": "stdout",
     "output_type": "stream",
     "text": [
      "ok\n"
     ]
    }
   ],
   "execution_count": 5
  },
  {
   "metadata": {
    "ExecuteTime": {
     "end_time": "2024-11-16T12:38:03.115027Z",
     "start_time": "2024-11-16T12:38:03.102518Z"
    }
   },
   "cell_type": "code",
   "source": [
    "hello = tf.constant(b'Hello, TensorFlow!')\n",
    "with tf.compat.v1.Session() as sess:\n",
    "    a = tf.constant(3.0)\n",
    "    b = tf.constant(4.0)\n",
    "    c = a+b\n",
    "    print(sess.run(c))\n",
    "    print(hello)\n",
    "sess.close()"
   ],
   "id": "5f9be6ea009efb15",
   "outputs": [
    {
     "name": "stdout",
     "output_type": "stream",
     "text": [
      "7.0\n",
      "tf.Tensor(b'Hello, TensorFlow!', shape=(), dtype=string)\n"
     ]
    }
   ],
   "execution_count": 10
  },
  {
   "metadata": {
    "ExecuteTime": {
     "end_time": "2024-11-16T12:37:36.713909Z",
     "start_time": "2024-11-16T12:37:36.698887Z"
    }
   },
   "cell_type": "code",
   "source": "import keras\n",
   "id": "1e960e7e3292960d",
   "outputs": [],
   "execution_count": 7
  },
  {
   "metadata": {
    "ExecuteTime": {
     "end_time": "2024-11-16T12:37:36.745429Z",
     "start_time": "2024-11-16T12:37:36.730418Z"
    }
   },
   "cell_type": "code",
   "source": [
    "from tensorflow import keras\n",
    "from keras.models import Sequential\n"
   ],
   "id": "447e29aa9cd1415",
   "outputs": [],
   "execution_count": 8
  },
  {
   "metadata": {
    "ExecuteTime": {
     "end_time": "2024-11-16T12:37:36.807668Z",
     "start_time": "2024-11-16T12:37:36.793342Z"
    }
   },
   "cell_type": "code",
   "source": "",
   "id": "51e2c63e56222ff0",
   "outputs": [],
   "execution_count": null
  }
 ],
 "metadata": {
  "kernelspec": {
   "display_name": "Python 3",
   "language": "python",
   "name": "python3"
  },
  "language_info": {
   "codemirror_mode": {
    "name": "ipython",
    "version": 2
   },
   "file_extension": ".py",
   "mimetype": "text/x-python",
   "name": "python",
   "nbconvert_exporter": "python",
   "pygments_lexer": "ipython2",
   "version": "2.7.6"
  }
 },
 "nbformat": 4,
 "nbformat_minor": 5
}
