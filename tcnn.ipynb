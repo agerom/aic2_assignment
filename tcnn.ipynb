{
 "cells": [
  {
   "cell_type": "code",
   "id": "initial_id",
   "metadata": {
    "collapsed": true,
    "ExecuteTime": {
     "end_time": "2024-11-16T14:24:56.515370Z",
     "start_time": "2024-11-16T14:23:58.674209Z"
    }
   },
   "source": [
    "#temporal convolutional neural net\n",
    "import tensorflow as tf\n",
    "\n"
   ],
   "outputs": [
    {
     "name": "stdout",
     "output_type": "stream",
     "text": [
      "WARNING:tensorflow:From C:\\Users\\agero\\PycharmProjects\\aic2_assignment\\.venv\\Lib\\site-packages\\keras\\src\\losses.py:2976: The name tf.losses.sparse_softmax_cross_entropy is deprecated. Please use tf.compat.v1.losses.sparse_softmax_cross_entropy instead.\n",
      "\n"
     ]
    }
   ],
   "execution_count": 1
  },
  {
   "metadata": {
    "ExecuteTime": {
     "end_time": "2024-11-16T14:24:56.530980Z",
     "start_time": "2024-11-16T14:24:56.525397Z"
    }
   },
   "cell_type": "code",
   "source": [
    "from keras.preprocessing.text import Tokenizer\n",
    "print(\"ok\")"
   ],
   "id": "d437c6f1164b6de",
   "outputs": [
    {
     "name": "stdout",
     "output_type": "stream",
     "text": [
      "ok\n"
     ]
    }
   ],
   "execution_count": 2
  },
  {
   "metadata": {
    "ExecuteTime": {
     "end_time": "2024-11-16T14:24:57.329777Z",
     "start_time": "2024-11-16T14:24:57.057253Z"
    }
   },
   "cell_type": "code",
   "source": [
    "hello = tf.constant(b'Hello, TensorFlow!')\n",
    "with tf.compat.v1.Session() as sess:\n",
    "    a = tf.constant(3.0)\n",
    "    b = tf.constant(4.0)\n",
    "    c = a+b\n",
    "    print(sess.run(c))\n",
    "    print(hello)\n",
    "sess.close()"
   ],
   "id": "5f9be6ea009efb15",
   "outputs": [
    {
     "name": "stdout",
     "output_type": "stream",
     "text": [
      "WARNING:tensorflow:From C:\\Users\\agero\\AppData\\Local\\Temp\\ipykernel_10376\\412610003.py:2: The name tf.Session is deprecated. Please use tf.compat.v1.Session instead.\n",
      "\n",
      "7.0\n",
      "tf.Tensor(b'Hello, TensorFlow!', shape=(), dtype=string)\n"
     ]
    }
   ],
   "execution_count": 3
  },
  {
   "metadata": {
    "ExecuteTime": {
     "end_time": "2024-11-16T14:24:57.362719Z",
     "start_time": "2024-11-16T14:24:57.360060Z"
    }
   },
   "cell_type": "code",
   "source": "import keras\n",
   "id": "1e960e7e3292960d",
   "outputs": [],
   "execution_count": 4
  },
  {
   "metadata": {
    "ExecuteTime": {
     "end_time": "2024-11-16T14:24:57.404377Z",
     "start_time": "2024-11-16T14:24:57.399940Z"
    }
   },
   "cell_type": "code",
   "source": [
    "from tensorflow import keras\n",
    "from keras.models import Sequential\n"
   ],
   "id": "447e29aa9cd1415",
   "outputs": [],
   "execution_count": 5
  },
  {
   "metadata": {
    "ExecuteTime": {
     "end_time": "2024-11-16T14:24:57.476721Z",
     "start_time": "2024-11-16T14:24:57.472224Z"
    }
   },
   "cell_type": "code",
   "source": "",
   "id": "51e2c63e56222ff0",
   "outputs": [],
   "execution_count": null
  }
 ],
 "metadata": {
  "kernelspec": {
   "display_name": "Python 3",
   "language": "python",
   "name": "python3"
  },
  "language_info": {
   "codemirror_mode": {
    "name": "ipython",
    "version": 2
   },
   "file_extension": ".py",
   "mimetype": "text/x-python",
   "name": "python",
   "nbconvert_exporter": "python",
   "pygments_lexer": "ipython2",
   "version": "2.7.6"
  }
 },
 "nbformat": 4,
 "nbformat_minor": 5
}
